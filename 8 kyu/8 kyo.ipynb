{
 "cells": [
  {
   "cell_type": "code",
   "execution_count": null,
   "id": "b10b0880",
   "metadata": {},
   "outputs": [],
   "source": [
    "#codewars_way_of_ninja\n",
    "\n",
    "#Implement a function which convert the given boolean value into its string representation.\n",
    "#Note: Only valid inputs will be given.\n",
    "\n",
    "#Solution\n",
    "\n",
    "def boolean_to_string(b):\n",
    "    return str(b)"
   ]
  },
  {
   "cell_type": "code",
   "execution_count": 2,
   "id": "c697b0aa",
   "metadata": {},
   "outputs": [],
   "source": []
  },
  {
   "cell_type": "code",
   "execution_count": null,
   "id": "3f0ab495",
   "metadata": {},
   "outputs": [],
   "source": []
  }
 ],
 "metadata": {
  "kernelspec": {
   "display_name": "Python 3 (ipykernel)",
   "language": "python",
   "name": "python3"
  },
  "language_info": {
   "codemirror_mode": {
    "name": "ipython",
    "version": 3
   },
   "file_extension": ".py",
   "mimetype": "text/x-python",
   "name": "python",
   "nbconvert_exporter": "python",
   "pygments_lexer": "ipython3",
   "version": "3.11.3"
  }
 },
 "nbformat": 4,
 "nbformat_minor": 5
}
